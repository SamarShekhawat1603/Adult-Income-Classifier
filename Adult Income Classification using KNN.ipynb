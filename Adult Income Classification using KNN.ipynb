{
 "cells": [
  {
   "cell_type": "code",
   "execution_count": 1,
   "id": "234fb7aa",
   "metadata": {},
   "outputs": [],
   "source": [
    "import numpy as np\n",
    "import pandas as pd\n",
    "# from tqdm import tqdm\n",
    "import matplotlib.pyplot as plt\n",
    "from tqdm.notebook import tqdm\n",
    "import multiprocessing"
   ]
  },
  {
   "cell_type": "markdown",
   "id": "35ea871f",
   "metadata": {},
   "source": [
    "### Importing Dataset"
   ]
  },
  {
   "cell_type": "code",
   "execution_count": 2,
   "id": "4aff3dcc",
   "metadata": {},
   "outputs": [],
   "source": [
    "data = pd.read_csv('adult.csv')"
   ]
  },
  {
   "cell_type": "code",
   "execution_count": 3,
   "id": "ed62b00e",
   "metadata": {},
   "outputs": [
    {
     "data": {
      "text/html": [
       "<div>\n",
       "<style scoped>\n",
       "    .dataframe tbody tr th:only-of-type {\n",
       "        vertical-align: middle;\n",
       "    }\n",
       "\n",
       "    .dataframe tbody tr th {\n",
       "        vertical-align: top;\n",
       "    }\n",
       "\n",
       "    .dataframe thead th {\n",
       "        text-align: right;\n",
       "    }\n",
       "</style>\n",
       "<table border=\"1\" class=\"dataframe\">\n",
       "  <thead>\n",
       "    <tr style=\"text-align: right;\">\n",
       "      <th></th>\n",
       "      <th>age</th>\n",
       "      <th>workclass</th>\n",
       "      <th>fnlwgt</th>\n",
       "      <th>education</th>\n",
       "      <th>educational-num</th>\n",
       "      <th>marital-status</th>\n",
       "      <th>occupation</th>\n",
       "      <th>relationship</th>\n",
       "      <th>race</th>\n",
       "      <th>gender</th>\n",
       "      <th>capital-gain</th>\n",
       "      <th>capital-loss</th>\n",
       "      <th>hours-per-week</th>\n",
       "      <th>native-country</th>\n",
       "      <th>income</th>\n",
       "    </tr>\n",
       "  </thead>\n",
       "  <tbody>\n",
       "    <tr>\n",
       "      <th>0</th>\n",
       "      <td>25</td>\n",
       "      <td>Private</td>\n",
       "      <td>226802</td>\n",
       "      <td>11th</td>\n",
       "      <td>7</td>\n",
       "      <td>Never-married</td>\n",
       "      <td>Machine-op-inspct</td>\n",
       "      <td>Own-child</td>\n",
       "      <td>Black</td>\n",
       "      <td>Male</td>\n",
       "      <td>0</td>\n",
       "      <td>0</td>\n",
       "      <td>40</td>\n",
       "      <td>United-States</td>\n",
       "      <td>&lt;=50K</td>\n",
       "    </tr>\n",
       "    <tr>\n",
       "      <th>1</th>\n",
       "      <td>38</td>\n",
       "      <td>Private</td>\n",
       "      <td>89814</td>\n",
       "      <td>HS-grad</td>\n",
       "      <td>9</td>\n",
       "      <td>Married-civ-spouse</td>\n",
       "      <td>Farming-fishing</td>\n",
       "      <td>Husband</td>\n",
       "      <td>White</td>\n",
       "      <td>Male</td>\n",
       "      <td>0</td>\n",
       "      <td>0</td>\n",
       "      <td>50</td>\n",
       "      <td>United-States</td>\n",
       "      <td>&lt;=50K</td>\n",
       "    </tr>\n",
       "    <tr>\n",
       "      <th>2</th>\n",
       "      <td>28</td>\n",
       "      <td>Local-gov</td>\n",
       "      <td>336951</td>\n",
       "      <td>Assoc-acdm</td>\n",
       "      <td>12</td>\n",
       "      <td>Married-civ-spouse</td>\n",
       "      <td>Protective-serv</td>\n",
       "      <td>Husband</td>\n",
       "      <td>White</td>\n",
       "      <td>Male</td>\n",
       "      <td>0</td>\n",
       "      <td>0</td>\n",
       "      <td>40</td>\n",
       "      <td>United-States</td>\n",
       "      <td>&gt;50K</td>\n",
       "    </tr>\n",
       "    <tr>\n",
       "      <th>3</th>\n",
       "      <td>44</td>\n",
       "      <td>Private</td>\n",
       "      <td>160323</td>\n",
       "      <td>Some-college</td>\n",
       "      <td>10</td>\n",
       "      <td>Married-civ-spouse</td>\n",
       "      <td>Machine-op-inspct</td>\n",
       "      <td>Husband</td>\n",
       "      <td>Black</td>\n",
       "      <td>Male</td>\n",
       "      <td>7688</td>\n",
       "      <td>0</td>\n",
       "      <td>40</td>\n",
       "      <td>United-States</td>\n",
       "      <td>&gt;50K</td>\n",
       "    </tr>\n",
       "    <tr>\n",
       "      <th>4</th>\n",
       "      <td>18</td>\n",
       "      <td>?</td>\n",
       "      <td>103497</td>\n",
       "      <td>Some-college</td>\n",
       "      <td>10</td>\n",
       "      <td>Never-married</td>\n",
       "      <td>?</td>\n",
       "      <td>Own-child</td>\n",
       "      <td>White</td>\n",
       "      <td>Female</td>\n",
       "      <td>0</td>\n",
       "      <td>0</td>\n",
       "      <td>30</td>\n",
       "      <td>United-States</td>\n",
       "      <td>&lt;=50K</td>\n",
       "    </tr>\n",
       "  </tbody>\n",
       "</table>\n",
       "</div>"
      ],
      "text/plain": [
       "   age  workclass  fnlwgt     education  educational-num      marital-status  \\\n",
       "0   25    Private  226802          11th                7       Never-married   \n",
       "1   38    Private   89814       HS-grad                9  Married-civ-spouse   \n",
       "2   28  Local-gov  336951    Assoc-acdm               12  Married-civ-spouse   \n",
       "3   44    Private  160323  Some-college               10  Married-civ-spouse   \n",
       "4   18          ?  103497  Some-college               10       Never-married   \n",
       "\n",
       "          occupation relationship   race  gender  capital-gain  capital-loss  \\\n",
       "0  Machine-op-inspct    Own-child  Black    Male             0             0   \n",
       "1    Farming-fishing      Husband  White    Male             0             0   \n",
       "2    Protective-serv      Husband  White    Male             0             0   \n",
       "3  Machine-op-inspct      Husband  Black    Male          7688             0   \n",
       "4                  ?    Own-child  White  Female             0             0   \n",
       "\n",
       "   hours-per-week native-country income  \n",
       "0              40  United-States  <=50K  \n",
       "1              50  United-States  <=50K  \n",
       "2              40  United-States   >50K  \n",
       "3              40  United-States   >50K  \n",
       "4              30  United-States  <=50K  "
      ]
     },
     "execution_count": 3,
     "metadata": {},
     "output_type": "execute_result"
    }
   ],
   "source": [
    "data.head()"
   ]
  },
  {
   "cell_type": "code",
   "execution_count": 4,
   "id": "6bf0deac",
   "metadata": {},
   "outputs": [
    {
     "name": "stdout",
     "output_type": "stream",
     "text": [
      "<class 'pandas.core.frame.DataFrame'>\n",
      "RangeIndex: 48842 entries, 0 to 48841\n",
      "Data columns (total 15 columns):\n",
      " #   Column           Non-Null Count  Dtype \n",
      "---  ------           --------------  ----- \n",
      " 0   age              48842 non-null  int64 \n",
      " 1   workclass        48842 non-null  object\n",
      " 2   fnlwgt           48842 non-null  int64 \n",
      " 3   education        48842 non-null  object\n",
      " 4   educational-num  48842 non-null  int64 \n",
      " 5   marital-status   48842 non-null  object\n",
      " 6   occupation       48842 non-null  object\n",
      " 7   relationship     48842 non-null  object\n",
      " 8   race             48842 non-null  object\n",
      " 9   gender           48842 non-null  object\n",
      " 10  capital-gain     48842 non-null  int64 \n",
      " 11  capital-loss     48842 non-null  int64 \n",
      " 12  hours-per-week   48842 non-null  int64 \n",
      " 13  native-country   48842 non-null  object\n",
      " 14  income           48842 non-null  object\n",
      "dtypes: int64(6), object(9)\n",
      "memory usage: 5.6+ MB\n"
     ]
    }
   ],
   "source": [
    "data.info()"
   ]
  },
  {
   "cell_type": "markdown",
   "id": "6ac8a7d1",
   "metadata": {},
   "source": []
  },
  {
   "cell_type": "markdown",
   "id": "e59b3d9b",
   "metadata": {},
   "source": [
    "**Features to work on:\n",
    "workclass = ? , string labels                 use ohe/le             DONE\n",
    "education -> sorted by edu_num                drop                   DONE\n",
    "marital-status -> string labels               use ohe/le             DONE\n",
    "occupation -> ? , string labels               use ohe/le             DONE\n",
    "relationship -> string labels                 use ohe/le             DONE\n",
    "race -> string labels                         use ohe/le             DONE\n",
    "gender -> string labels                       use ohe/le             DONE\n",
    "native-country -> ? , string labels           use ohe/le\n",
    "income -> convert to 1,0                      RESULT\n",
    "    \n",
    "    "
   ]
  },
  {
   "cell_type": "code",
   "execution_count": 5,
   "id": "5b53970d",
   "metadata": {},
   "outputs": [
    {
     "data": {
      "text/plain": [
       "array(['Private', 'Local-gov', '?', 'Self-emp-not-inc', 'Federal-gov',\n",
       "       'State-gov', 'Self-emp-inc', 'Without-pay', 'Never-worked'],\n",
       "      dtype=object)"
      ]
     },
     "execution_count": 5,
     "metadata": {},
     "output_type": "execute_result"
    }
   ],
   "source": [
    "data['workclass'].unique()"
   ]
  },
  {
   "cell_type": "code",
   "execution_count": 6,
   "id": "075c5c2d",
   "metadata": {},
   "outputs": [
    {
     "data": {
      "application/vnd.jupyter.widget-view+json": {
       "model_id": "fa0964c5ea144fba880e3619d6ff7261",
       "version_major": 2,
       "version_minor": 0
      },
      "text/plain": [
       "  0%|          | 0/48842 [00:00<?, ?it/s]"
      ]
     },
     "metadata": {},
     "output_type": "display_data"
    }
   ],
   "source": [
    "for i in tqdm(range(len(data['workclass']))):\n",
    "    if( data.at[i,'workclass'] == '?'):\n",
    "        data.drop(i,axis = 0, inplace = True)  "
   ]
  },
  {
   "cell_type": "code",
   "execution_count": 7,
   "id": "6346e799",
   "metadata": {},
   "outputs": [
    {
     "name": "stdout",
     "output_type": "stream",
     "text": [
      "<class 'pandas.core.frame.DataFrame'>\n",
      "Int64Index: 46043 entries, 0 to 48841\n",
      "Data columns (total 15 columns):\n",
      " #   Column           Non-Null Count  Dtype \n",
      "---  ------           --------------  ----- \n",
      " 0   age              46043 non-null  int64 \n",
      " 1   workclass        46043 non-null  object\n",
      " 2   fnlwgt           46043 non-null  int64 \n",
      " 3   education        46043 non-null  object\n",
      " 4   educational-num  46043 non-null  int64 \n",
      " 5   marital-status   46043 non-null  object\n",
      " 6   occupation       46043 non-null  object\n",
      " 7   relationship     46043 non-null  object\n",
      " 8   race             46043 non-null  object\n",
      " 9   gender           46043 non-null  object\n",
      " 10  capital-gain     46043 non-null  int64 \n",
      " 11  capital-loss     46043 non-null  int64 \n",
      " 12  hours-per-week   46043 non-null  int64 \n",
      " 13  native-country   46043 non-null  object\n",
      " 14  income           46043 non-null  object\n",
      "dtypes: int64(6), object(9)\n",
      "memory usage: 6.6+ MB\n"
     ]
    }
   ],
   "source": [
    "data.info()"
   ]
  },
  {
   "cell_type": "code",
   "execution_count": 8,
   "id": "94b6c95d",
   "metadata": {},
   "outputs": [
    {
     "data": {
      "text/plain": [
       "['Federal-gov',\n",
       " 'Local-gov',\n",
       " 'Never-worked',\n",
       " 'Private',\n",
       " 'Self-emp-inc',\n",
       " 'Self-emp-not-inc',\n",
       " 'State-gov',\n",
       " 'Without-pay']"
      ]
     },
     "execution_count": 8,
     "metadata": {},
     "output_type": "execute_result"
    }
   ],
   "source": [
    "sorted(data['workclass'].unique())"
   ]
  },
  {
   "cell_type": "code",
   "execution_count": 9,
   "id": "3881a31c",
   "metadata": {},
   "outputs": [],
   "source": [
    "from sklearn.preprocessing import OneHotEncoder\n",
    "\n",
    "ohe = OneHotEncoder( sparse = False)"
   ]
  },
  {
   "cell_type": "code",
   "execution_count": 10,
   "id": "d3344d00",
   "metadata": {},
   "outputs": [],
   "source": [
    "data[['Federal-gov','Local-gov','Never-worked','Private','Self-emp-inc',\n",
    "      'Self-emp-not-inc','State-gov','Without-pay']] = ohe.fit_transform(data[['workclass']])"
   ]
  },
  {
   "cell_type": "code",
   "execution_count": 11,
   "id": "c5234548",
   "metadata": {},
   "outputs": [],
   "source": [
    "data.drop('education' , axis = 1 , inplace = True)"
   ]
  },
  {
   "cell_type": "code",
   "execution_count": 12,
   "id": "cab3e3d7",
   "metadata": {},
   "outputs": [
    {
     "data": {
      "text/plain": [
       "['Divorced',\n",
       " 'Married-AF-spouse',\n",
       " 'Married-civ-spouse',\n",
       " 'Married-spouse-absent',\n",
       " 'Never-married',\n",
       " 'Separated',\n",
       " 'Widowed']"
      ]
     },
     "execution_count": 12,
     "metadata": {},
     "output_type": "execute_result"
    }
   ],
   "source": [
    "sorted(data['marital-status'].unique())"
   ]
  },
  {
   "cell_type": "code",
   "execution_count": 13,
   "id": "550818fa",
   "metadata": {},
   "outputs": [],
   "source": [
    "data[['Divorced',\n",
    " 'Married-AF-spouse',\n",
    " 'Married-civ-spouse',\n",
    " 'Married-spouse-absent',\n",
    " 'Never-married',\n",
    " 'Separated',\n",
    " 'Widowed']] = ohe.fit_transform(data[['marital-status']])"
   ]
  },
  {
   "cell_type": "code",
   "execution_count": 14,
   "id": "1bd2c990",
   "metadata": {},
   "outputs": [],
   "source": [
    "data.reset_index(drop = True , inplace = True)"
   ]
  },
  {
   "cell_type": "code",
   "execution_count": 15,
   "id": "5a308978",
   "metadata": {},
   "outputs": [
    {
     "data": {
      "text/plain": [
       "['?',\n",
       " 'Adm-clerical',\n",
       " 'Armed-Forces',\n",
       " 'Craft-repair',\n",
       " 'Exec-managerial',\n",
       " 'Farming-fishing',\n",
       " 'Handlers-cleaners',\n",
       " 'Machine-op-inspct',\n",
       " 'Other-service',\n",
       " 'Priv-house-serv',\n",
       " 'Prof-specialty',\n",
       " 'Protective-serv',\n",
       " 'Sales',\n",
       " 'Tech-support',\n",
       " 'Transport-moving']"
      ]
     },
     "execution_count": 15,
     "metadata": {},
     "output_type": "execute_result"
    }
   ],
   "source": [
    "sorted(data['occupation'].unique())"
   ]
  },
  {
   "cell_type": "code",
   "execution_count": 16,
   "id": "0c9a7302",
   "metadata": {},
   "outputs": [
    {
     "data": {
      "application/vnd.jupyter.widget-view+json": {
       "model_id": "73b5167086ba4883a73657e984b1c2ea",
       "version_major": 2,
       "version_minor": 0
      },
      "text/plain": [
       "  0%|          | 0/46043 [00:00<?, ?it/s]"
      ]
     },
     "metadata": {},
     "output_type": "display_data"
    }
   ],
   "source": [
    "for i in tqdm(range(len(data['occupation']))):\n",
    "    if( data.at[i,'occupation'] == '?'):\n",
    "        data.drop(i,axis = 0, inplace = True)"
   ]
  },
  {
   "cell_type": "code",
   "execution_count": 17,
   "id": "46c067f5",
   "metadata": {},
   "outputs": [],
   "source": [
    "data[['Adm-clerical',\n",
    " 'Armed-Forces',\n",
    " 'Craft-repair',\n",
    " 'Exec-managerial',\n",
    " 'Farming-fishing',\n",
    " 'Handlers-cleaners',\n",
    " 'Machine-op-inspct',\n",
    " 'Other-service',\n",
    " 'Priv-house-serv',\n",
    " 'Prof-specialty',\n",
    " 'Protective-serv',\n",
    " 'Sales',\n",
    " 'Tech-support',\n",
    " 'Transport-moving']] = ohe.fit_transform(data[['occupation']])"
   ]
  },
  {
   "cell_type": "code",
   "execution_count": 18,
   "id": "ad9f5f75",
   "metadata": {},
   "outputs": [],
   "source": [
    "data.reset_index(drop = True , inplace = True)"
   ]
  },
  {
   "cell_type": "code",
   "execution_count": 19,
   "id": "6debd15b",
   "metadata": {},
   "outputs": [
    {
     "data": {
      "text/plain": [
       "['Husband',\n",
       " 'Not-in-family',\n",
       " 'Other-relative',\n",
       " 'Own-child',\n",
       " 'Unmarried',\n",
       " 'Wife']"
      ]
     },
     "execution_count": 19,
     "metadata": {},
     "output_type": "execute_result"
    }
   ],
   "source": [
    "sorted(data['relationship'].unique())"
   ]
  },
  {
   "cell_type": "code",
   "execution_count": 20,
   "id": "9b7837fe",
   "metadata": {},
   "outputs": [],
   "source": [
    "data[['Husband',\n",
    " 'Not-in-family',\n",
    " 'Other-relative',\n",
    " 'Own-child',\n",
    " 'Unmarried',\n",
    " 'Wife']] = ohe.fit_transform(data[['relationship']])"
   ]
  },
  {
   "cell_type": "code",
   "execution_count": 21,
   "id": "9aa8ed9e",
   "metadata": {},
   "outputs": [
    {
     "data": {
      "text/plain": [
       "['Amer-Indian-Eskimo', 'Asian-Pac-Islander', 'Black', 'Other', 'White']"
      ]
     },
     "execution_count": 21,
     "metadata": {},
     "output_type": "execute_result"
    }
   ],
   "source": [
    "sorted(data['race'].unique())"
   ]
  },
  {
   "cell_type": "code",
   "execution_count": 22,
   "id": "417f359b",
   "metadata": {},
   "outputs": [],
   "source": [
    "data[['Amer-Indian-Eskimo', 'Asian-Pac-Islander',\n",
    "      'Black', 'Other', 'White']] = ohe.fit_transform(data[['race']])"
   ]
  },
  {
   "cell_type": "code",
   "execution_count": 23,
   "id": "4824f0e2",
   "metadata": {},
   "outputs": [
    {
     "data": {
      "text/plain": [
       "['Female', 'Male']"
      ]
     },
     "execution_count": 23,
     "metadata": {},
     "output_type": "execute_result"
    }
   ],
   "source": [
    "sorted(data['gender'].unique())"
   ]
  },
  {
   "cell_type": "code",
   "execution_count": 24,
   "id": "0e01fc66",
   "metadata": {},
   "outputs": [],
   "source": [
    "data[['Female', 'Male']] = ohe.fit_transform(data[['gender']])"
   ]
  },
  {
   "cell_type": "code",
   "execution_count": 25,
   "id": "b3b9854b",
   "metadata": {},
   "outputs": [],
   "source": [
    "data.reset_index(drop = True , inplace = True)"
   ]
  },
  {
   "cell_type": "code",
   "execution_count": 26,
   "id": "90d07f33",
   "metadata": {},
   "outputs": [
    {
     "data": {
      "application/vnd.jupyter.widget-view+json": {
       "model_id": "8a735c3ce62c48c69a901c9c4e3295fe",
       "version_major": 2,
       "version_minor": 0
      },
      "text/plain": [
       "  0%|          | 0/46033 [00:00<?, ?it/s]"
      ]
     },
     "metadata": {},
     "output_type": "display_data"
    }
   ],
   "source": [
    "for i in tqdm(range(len(data['native-country']))):\n",
    "    if( data.at[i,'native-country'] == '?'):\n",
    "        data.drop(i,axis = 0, inplace = True)  "
   ]
  },
  {
   "cell_type": "code",
   "execution_count": 27,
   "id": "dd4c761f",
   "metadata": {},
   "outputs": [],
   "source": [
    "data.reset_index(drop = True , inplace = True)"
   ]
  },
  {
   "cell_type": "code",
   "execution_count": 28,
   "id": "61a09c35",
   "metadata": {},
   "outputs": [
    {
     "data": {
      "text/plain": [
       "array(['United-States', 'Peru', 'Guatemala', 'Mexico',\n",
       "       'Dominican-Republic', 'Ireland', 'Germany', 'Philippines',\n",
       "       'Thailand', 'Haiti', 'El-Salvador', 'Puerto-Rico', 'Vietnam',\n",
       "       'South', 'Columbia', 'Japan', 'India', 'Cambodia', 'Poland',\n",
       "       'Laos', 'England', 'Cuba', 'Taiwan', 'Italy', 'Canada', 'Portugal',\n",
       "       'China', 'Nicaragua', 'Honduras', 'Iran', 'Scotland', 'Jamaica',\n",
       "       'Ecuador', 'Yugoslavia', 'Hungary', 'Hong', 'Greece',\n",
       "       'Trinadad&Tobago', 'Outlying-US(Guam-USVI-etc)', 'France',\n",
       "       'Holand-Netherlands'], dtype=object)"
      ]
     },
     "execution_count": 28,
     "metadata": {},
     "output_type": "execute_result"
    }
   ],
   "source": [
    "data['native-country'].unique()"
   ]
  },
  {
   "cell_type": "code",
   "execution_count": 29,
   "id": "1a8fc750",
   "metadata": {},
   "outputs": [],
   "source": [
    "data[['United-States', 'Peru', 'Guatemala', 'Mexico',\n",
    "       'Dominican-Republic', 'Ireland', 'Germany', 'Philippines',\n",
    "       'Thailand', 'Haiti', 'El-Salvador', 'Puerto-Rico', 'Vietnam',\n",
    "       'South', 'Columbia', 'Japan', 'India', 'Cambodia', 'Poland',\n",
    "       'Laos', 'England', 'Cuba', 'Taiwan', 'Italy', 'Canada', 'Portugal',\n",
    "       'China', 'Nicaragua', 'Honduras', 'Iran', 'Scotland', 'Jamaica',\n",
    "       'Ecuador', 'Yugoslavia', 'Hungary', 'Hong', 'Greece',\n",
    "       'Trinadad&Tobago', 'Outlying-US(Guam-USVI-etc)', 'France',\n",
    "       'Holand-Netherlands']] = ohe.fit_transform(data[['native-country']])"
   ]
  },
  {
   "cell_type": "code",
   "execution_count": 30,
   "id": "49d9a32e",
   "metadata": {},
   "outputs": [
    {
     "data": {
      "text/plain": [
       "['<=50K', '>50K']"
      ]
     },
     "execution_count": 30,
     "metadata": {},
     "output_type": "execute_result"
    }
   ],
   "source": [
    "sorted(data['income'].unique())"
   ]
  },
  {
   "cell_type": "code",
   "execution_count": 31,
   "id": "184ba9c2",
   "metadata": {},
   "outputs": [],
   "source": [
    "for i in range(len(data['income'])):\n",
    "    if data.at[i , 'income'] == '<=50K':\n",
    "        data.at[i , 'income'] = 1\n",
    "        #.replace('<=50K' ,'1')\n",
    "    else:\n",
    "        data.at[i , 'income'] = 0\n",
    "        #.replace('>50K' ,'0')"
   ]
  },
  {
   "cell_type": "code",
   "execution_count": 32,
   "id": "6b499bf1",
   "metadata": {},
   "outputs": [
    {
     "data": {
      "text/plain": [
       "array([1, 0], dtype=object)"
      ]
     },
     "execution_count": 32,
     "metadata": {},
     "output_type": "execute_result"
    }
   ],
   "source": [
    "data['income'].unique()"
   ]
  },
  {
   "cell_type": "code",
   "execution_count": 33,
   "id": "2a61ae6d",
   "metadata": {},
   "outputs": [
    {
     "data": {
      "text/plain": [
       "Index(['age', 'workclass', 'fnlwgt', 'educational-num', 'marital-status',\n",
       "       'occupation', 'relationship', 'race', 'gender', 'capital-gain',\n",
       "       'capital-loss', 'hours-per-week', 'native-country', 'income',\n",
       "       'Federal-gov', 'Local-gov', 'Never-worked', 'Private', 'Self-emp-inc',\n",
       "       'Self-emp-not-inc', 'State-gov', 'Without-pay', 'Divorced',\n",
       "       'Married-AF-spouse', 'Married-civ-spouse', 'Married-spouse-absent',\n",
       "       'Never-married', 'Separated', 'Widowed', 'Adm-clerical', 'Armed-Forces',\n",
       "       'Craft-repair', 'Exec-managerial', 'Farming-fishing',\n",
       "       'Handlers-cleaners', 'Machine-op-inspct', 'Other-service',\n",
       "       'Priv-house-serv', 'Prof-specialty', 'Protective-serv', 'Sales',\n",
       "       'Tech-support', 'Transport-moving', 'Husband', 'Not-in-family',\n",
       "       'Other-relative', 'Own-child', 'Unmarried', 'Wife',\n",
       "       'Amer-Indian-Eskimo', 'Asian-Pac-Islander', 'Black', 'Other', 'White',\n",
       "       'Female', 'Male', 'United-States', 'Peru', 'Guatemala', 'Mexico',\n",
       "       'Dominican-Republic', 'Ireland', 'Germany', 'Philippines', 'Thailand',\n",
       "       'Haiti', 'El-Salvador', 'Puerto-Rico', 'Vietnam', 'South', 'Columbia',\n",
       "       'Japan', 'India', 'Cambodia', 'Poland', 'Laos', 'England', 'Cuba',\n",
       "       'Taiwan', 'Italy', 'Canada', 'Portugal', 'China', 'Nicaragua',\n",
       "       'Honduras', 'Iran', 'Scotland', 'Jamaica', 'Ecuador', 'Yugoslavia',\n",
       "       'Hungary', 'Hong', 'Greece', 'Trinadad&Tobago',\n",
       "       'Outlying-US(Guam-USVI-etc)', 'France', 'Holand-Netherlands'],\n",
       "      dtype='object')"
      ]
     },
     "execution_count": 33,
     "metadata": {},
     "output_type": "execute_result"
    }
   ],
   "source": [
    "data.columns"
   ]
  },
  {
   "cell_type": "code",
   "execution_count": 34,
   "id": "f3fca542",
   "metadata": {},
   "outputs": [],
   "source": [
    "del_cols = ['workclass', 'marital-status',\n",
    "       'occupation', 'relationship', 'race', 'gender', 'native-country']"
   ]
  },
  {
   "cell_type": "code",
   "execution_count": 35,
   "id": "abfe3865",
   "metadata": {},
   "outputs": [],
   "source": [
    "data.drop(del_cols , inplace = True , axis = 1)"
   ]
  },
  {
   "cell_type": "code",
   "execution_count": 36,
   "id": "78870d21",
   "metadata": {},
   "outputs": [
    {
     "data": {
      "text/html": [
       "<div>\n",
       "<style scoped>\n",
       "    .dataframe tbody tr th:only-of-type {\n",
       "        vertical-align: middle;\n",
       "    }\n",
       "\n",
       "    .dataframe tbody tr th {\n",
       "        vertical-align: top;\n",
       "    }\n",
       "\n",
       "    .dataframe thead th {\n",
       "        text-align: right;\n",
       "    }\n",
       "</style>\n",
       "<table border=\"1\" class=\"dataframe\">\n",
       "  <thead>\n",
       "    <tr style=\"text-align: right;\">\n",
       "      <th></th>\n",
       "      <th>age</th>\n",
       "      <th>fnlwgt</th>\n",
       "      <th>educational-num</th>\n",
       "      <th>capital-gain</th>\n",
       "      <th>capital-loss</th>\n",
       "      <th>hours-per-week</th>\n",
       "      <th>income</th>\n",
       "      <th>Federal-gov</th>\n",
       "      <th>Local-gov</th>\n",
       "      <th>Never-worked</th>\n",
       "      <th>...</th>\n",
       "      <th>Jamaica</th>\n",
       "      <th>Ecuador</th>\n",
       "      <th>Yugoslavia</th>\n",
       "      <th>Hungary</th>\n",
       "      <th>Hong</th>\n",
       "      <th>Greece</th>\n",
       "      <th>Trinadad&amp;Tobago</th>\n",
       "      <th>Outlying-US(Guam-USVI-etc)</th>\n",
       "      <th>France</th>\n",
       "      <th>Holand-Netherlands</th>\n",
       "    </tr>\n",
       "  </thead>\n",
       "  <tbody>\n",
       "    <tr>\n",
       "      <th>0</th>\n",
       "      <td>25</td>\n",
       "      <td>226802</td>\n",
       "      <td>7</td>\n",
       "      <td>0</td>\n",
       "      <td>0</td>\n",
       "      <td>40</td>\n",
       "      <td>1</td>\n",
       "      <td>0.0</td>\n",
       "      <td>0.0</td>\n",
       "      <td>0.0</td>\n",
       "      <td>...</td>\n",
       "      <td>0.0</td>\n",
       "      <td>0.0</td>\n",
       "      <td>0.0</td>\n",
       "      <td>0.0</td>\n",
       "      <td>0.0</td>\n",
       "      <td>0.0</td>\n",
       "      <td>0.0</td>\n",
       "      <td>1.0</td>\n",
       "      <td>0.0</td>\n",
       "      <td>0.0</td>\n",
       "    </tr>\n",
       "    <tr>\n",
       "      <th>1</th>\n",
       "      <td>38</td>\n",
       "      <td>89814</td>\n",
       "      <td>9</td>\n",
       "      <td>0</td>\n",
       "      <td>0</td>\n",
       "      <td>50</td>\n",
       "      <td>1</td>\n",
       "      <td>0.0</td>\n",
       "      <td>0.0</td>\n",
       "      <td>0.0</td>\n",
       "      <td>...</td>\n",
       "      <td>0.0</td>\n",
       "      <td>0.0</td>\n",
       "      <td>0.0</td>\n",
       "      <td>0.0</td>\n",
       "      <td>0.0</td>\n",
       "      <td>0.0</td>\n",
       "      <td>0.0</td>\n",
       "      <td>1.0</td>\n",
       "      <td>0.0</td>\n",
       "      <td>0.0</td>\n",
       "    </tr>\n",
       "    <tr>\n",
       "      <th>2</th>\n",
       "      <td>28</td>\n",
       "      <td>336951</td>\n",
       "      <td>12</td>\n",
       "      <td>0</td>\n",
       "      <td>0</td>\n",
       "      <td>40</td>\n",
       "      <td>0</td>\n",
       "      <td>0.0</td>\n",
       "      <td>1.0</td>\n",
       "      <td>0.0</td>\n",
       "      <td>...</td>\n",
       "      <td>0.0</td>\n",
       "      <td>0.0</td>\n",
       "      <td>0.0</td>\n",
       "      <td>0.0</td>\n",
       "      <td>0.0</td>\n",
       "      <td>0.0</td>\n",
       "      <td>0.0</td>\n",
       "      <td>1.0</td>\n",
       "      <td>0.0</td>\n",
       "      <td>0.0</td>\n",
       "    </tr>\n",
       "    <tr>\n",
       "      <th>3</th>\n",
       "      <td>44</td>\n",
       "      <td>160323</td>\n",
       "      <td>10</td>\n",
       "      <td>7688</td>\n",
       "      <td>0</td>\n",
       "      <td>40</td>\n",
       "      <td>0</td>\n",
       "      <td>0.0</td>\n",
       "      <td>0.0</td>\n",
       "      <td>0.0</td>\n",
       "      <td>...</td>\n",
       "      <td>0.0</td>\n",
       "      <td>0.0</td>\n",
       "      <td>0.0</td>\n",
       "      <td>0.0</td>\n",
       "      <td>0.0</td>\n",
       "      <td>0.0</td>\n",
       "      <td>0.0</td>\n",
       "      <td>1.0</td>\n",
       "      <td>0.0</td>\n",
       "      <td>0.0</td>\n",
       "    </tr>\n",
       "    <tr>\n",
       "      <th>4</th>\n",
       "      <td>34</td>\n",
       "      <td>198693</td>\n",
       "      <td>6</td>\n",
       "      <td>0</td>\n",
       "      <td>0</td>\n",
       "      <td>30</td>\n",
       "      <td>1</td>\n",
       "      <td>0.0</td>\n",
       "      <td>0.0</td>\n",
       "      <td>0.0</td>\n",
       "      <td>...</td>\n",
       "      <td>0.0</td>\n",
       "      <td>0.0</td>\n",
       "      <td>0.0</td>\n",
       "      <td>0.0</td>\n",
       "      <td>0.0</td>\n",
       "      <td>0.0</td>\n",
       "      <td>0.0</td>\n",
       "      <td>1.0</td>\n",
       "      <td>0.0</td>\n",
       "      <td>0.0</td>\n",
       "    </tr>\n",
       "    <tr>\n",
       "      <th>...</th>\n",
       "      <td>...</td>\n",
       "      <td>...</td>\n",
       "      <td>...</td>\n",
       "      <td>...</td>\n",
       "      <td>...</td>\n",
       "      <td>...</td>\n",
       "      <td>...</td>\n",
       "      <td>...</td>\n",
       "      <td>...</td>\n",
       "      <td>...</td>\n",
       "      <td>...</td>\n",
       "      <td>...</td>\n",
       "      <td>...</td>\n",
       "      <td>...</td>\n",
       "      <td>...</td>\n",
       "      <td>...</td>\n",
       "      <td>...</td>\n",
       "      <td>...</td>\n",
       "      <td>...</td>\n",
       "      <td>...</td>\n",
       "      <td>...</td>\n",
       "    </tr>\n",
       "    <tr>\n",
       "      <th>45217</th>\n",
       "      <td>27</td>\n",
       "      <td>257302</td>\n",
       "      <td>12</td>\n",
       "      <td>0</td>\n",
       "      <td>0</td>\n",
       "      <td>38</td>\n",
       "      <td>1</td>\n",
       "      <td>0.0</td>\n",
       "      <td>0.0</td>\n",
       "      <td>0.0</td>\n",
       "      <td>...</td>\n",
       "      <td>0.0</td>\n",
       "      <td>0.0</td>\n",
       "      <td>0.0</td>\n",
       "      <td>0.0</td>\n",
       "      <td>0.0</td>\n",
       "      <td>0.0</td>\n",
       "      <td>0.0</td>\n",
       "      <td>1.0</td>\n",
       "      <td>0.0</td>\n",
       "      <td>0.0</td>\n",
       "    </tr>\n",
       "    <tr>\n",
       "      <th>45218</th>\n",
       "      <td>40</td>\n",
       "      <td>154374</td>\n",
       "      <td>9</td>\n",
       "      <td>0</td>\n",
       "      <td>0</td>\n",
       "      <td>40</td>\n",
       "      <td>0</td>\n",
       "      <td>0.0</td>\n",
       "      <td>0.0</td>\n",
       "      <td>0.0</td>\n",
       "      <td>...</td>\n",
       "      <td>0.0</td>\n",
       "      <td>0.0</td>\n",
       "      <td>0.0</td>\n",
       "      <td>0.0</td>\n",
       "      <td>0.0</td>\n",
       "      <td>0.0</td>\n",
       "      <td>0.0</td>\n",
       "      <td>1.0</td>\n",
       "      <td>0.0</td>\n",
       "      <td>0.0</td>\n",
       "    </tr>\n",
       "    <tr>\n",
       "      <th>45219</th>\n",
       "      <td>58</td>\n",
       "      <td>151910</td>\n",
       "      <td>9</td>\n",
       "      <td>0</td>\n",
       "      <td>0</td>\n",
       "      <td>40</td>\n",
       "      <td>1</td>\n",
       "      <td>0.0</td>\n",
       "      <td>0.0</td>\n",
       "      <td>0.0</td>\n",
       "      <td>...</td>\n",
       "      <td>0.0</td>\n",
       "      <td>0.0</td>\n",
       "      <td>0.0</td>\n",
       "      <td>0.0</td>\n",
       "      <td>0.0</td>\n",
       "      <td>0.0</td>\n",
       "      <td>0.0</td>\n",
       "      <td>1.0</td>\n",
       "      <td>0.0</td>\n",
       "      <td>0.0</td>\n",
       "    </tr>\n",
       "    <tr>\n",
       "      <th>45220</th>\n",
       "      <td>22</td>\n",
       "      <td>201490</td>\n",
       "      <td>9</td>\n",
       "      <td>0</td>\n",
       "      <td>0</td>\n",
       "      <td>20</td>\n",
       "      <td>1</td>\n",
       "      <td>0.0</td>\n",
       "      <td>0.0</td>\n",
       "      <td>0.0</td>\n",
       "      <td>...</td>\n",
       "      <td>0.0</td>\n",
       "      <td>0.0</td>\n",
       "      <td>0.0</td>\n",
       "      <td>0.0</td>\n",
       "      <td>0.0</td>\n",
       "      <td>0.0</td>\n",
       "      <td>0.0</td>\n",
       "      <td>1.0</td>\n",
       "      <td>0.0</td>\n",
       "      <td>0.0</td>\n",
       "    </tr>\n",
       "    <tr>\n",
       "      <th>45221</th>\n",
       "      <td>52</td>\n",
       "      <td>287927</td>\n",
       "      <td>9</td>\n",
       "      <td>15024</td>\n",
       "      <td>0</td>\n",
       "      <td>40</td>\n",
       "      <td>0</td>\n",
       "      <td>0.0</td>\n",
       "      <td>0.0</td>\n",
       "      <td>0.0</td>\n",
       "      <td>...</td>\n",
       "      <td>0.0</td>\n",
       "      <td>0.0</td>\n",
       "      <td>0.0</td>\n",
       "      <td>0.0</td>\n",
       "      <td>0.0</td>\n",
       "      <td>0.0</td>\n",
       "      <td>0.0</td>\n",
       "      <td>1.0</td>\n",
       "      <td>0.0</td>\n",
       "      <td>0.0</td>\n",
       "    </tr>\n",
       "  </tbody>\n",
       "</table>\n",
       "<p>45222 rows × 90 columns</p>\n",
       "</div>"
      ],
      "text/plain": [
       "       age  fnlwgt  educational-num  capital-gain  capital-loss  \\\n",
       "0       25  226802                7             0             0   \n",
       "1       38   89814                9             0             0   \n",
       "2       28  336951               12             0             0   \n",
       "3       44  160323               10          7688             0   \n",
       "4       34  198693                6             0             0   \n",
       "...    ...     ...              ...           ...           ...   \n",
       "45217   27  257302               12             0             0   \n",
       "45218   40  154374                9             0             0   \n",
       "45219   58  151910                9             0             0   \n",
       "45220   22  201490                9             0             0   \n",
       "45221   52  287927                9         15024             0   \n",
       "\n",
       "       hours-per-week income  Federal-gov  Local-gov  Never-worked  ...  \\\n",
       "0                  40      1          0.0        0.0           0.0  ...   \n",
       "1                  50      1          0.0        0.0           0.0  ...   \n",
       "2                  40      0          0.0        1.0           0.0  ...   \n",
       "3                  40      0          0.0        0.0           0.0  ...   \n",
       "4                  30      1          0.0        0.0           0.0  ...   \n",
       "...               ...    ...          ...        ...           ...  ...   \n",
       "45217              38      1          0.0        0.0           0.0  ...   \n",
       "45218              40      0          0.0        0.0           0.0  ...   \n",
       "45219              40      1          0.0        0.0           0.0  ...   \n",
       "45220              20      1          0.0        0.0           0.0  ...   \n",
       "45221              40      0          0.0        0.0           0.0  ...   \n",
       "\n",
       "       Jamaica  Ecuador  Yugoslavia  Hungary  Hong  Greece  Trinadad&Tobago  \\\n",
       "0          0.0      0.0         0.0      0.0   0.0     0.0              0.0   \n",
       "1          0.0      0.0         0.0      0.0   0.0     0.0              0.0   \n",
       "2          0.0      0.0         0.0      0.0   0.0     0.0              0.0   \n",
       "3          0.0      0.0         0.0      0.0   0.0     0.0              0.0   \n",
       "4          0.0      0.0         0.0      0.0   0.0     0.0              0.0   \n",
       "...        ...      ...         ...      ...   ...     ...              ...   \n",
       "45217      0.0      0.0         0.0      0.0   0.0     0.0              0.0   \n",
       "45218      0.0      0.0         0.0      0.0   0.0     0.0              0.0   \n",
       "45219      0.0      0.0         0.0      0.0   0.0     0.0              0.0   \n",
       "45220      0.0      0.0         0.0      0.0   0.0     0.0              0.0   \n",
       "45221      0.0      0.0         0.0      0.0   0.0     0.0              0.0   \n",
       "\n",
       "       Outlying-US(Guam-USVI-etc)  France  Holand-Netherlands  \n",
       "0                             1.0     0.0                 0.0  \n",
       "1                             1.0     0.0                 0.0  \n",
       "2                             1.0     0.0                 0.0  \n",
       "3                             1.0     0.0                 0.0  \n",
       "4                             1.0     0.0                 0.0  \n",
       "...                           ...     ...                 ...  \n",
       "45217                         1.0     0.0                 0.0  \n",
       "45218                         1.0     0.0                 0.0  \n",
       "45219                         1.0     0.0                 0.0  \n",
       "45220                         1.0     0.0                 0.0  \n",
       "45221                         1.0     0.0                 0.0  \n",
       "\n",
       "[45222 rows x 90 columns]"
      ]
     },
     "execution_count": 36,
     "metadata": {},
     "output_type": "execute_result"
    }
   ],
   "source": [
    "data"
   ]
  },
  {
   "cell_type": "code",
   "execution_count": 37,
   "id": "4248d69b",
   "metadata": {},
   "outputs": [],
   "source": [
    "from sklearn.preprocessing import StandardScaler\n",
    "scaler = StandardScaler()"
   ]
  },
  {
   "cell_type": "code",
   "execution_count": 38,
   "id": "ac296b99",
   "metadata": {},
   "outputs": [
    {
     "data": {
      "text/plain": [
       "Index(['age', 'fnlwgt', 'educational-num', 'capital-gain', 'capital-loss',\n",
       "       'hours-per-week', 'income', 'Federal-gov', 'Local-gov', 'Never-worked',\n",
       "       'Private', 'Self-emp-inc', 'Self-emp-not-inc', 'State-gov',\n",
       "       'Without-pay', 'Divorced', 'Married-AF-spouse', 'Married-civ-spouse',\n",
       "       'Married-spouse-absent', 'Never-married', 'Separated', 'Widowed',\n",
       "       'Adm-clerical', 'Armed-Forces', 'Craft-repair', 'Exec-managerial',\n",
       "       'Farming-fishing', 'Handlers-cleaners', 'Machine-op-inspct',\n",
       "       'Other-service', 'Priv-house-serv', 'Prof-specialty', 'Protective-serv',\n",
       "       'Sales', 'Tech-support', 'Transport-moving', 'Husband', 'Not-in-family',\n",
       "       'Other-relative', 'Own-child', 'Unmarried', 'Wife',\n",
       "       'Amer-Indian-Eskimo', 'Asian-Pac-Islander', 'Black', 'Other', 'White',\n",
       "       'Female', 'Male', 'United-States', 'Peru', 'Guatemala', 'Mexico',\n",
       "       'Dominican-Republic', 'Ireland', 'Germany', 'Philippines', 'Thailand',\n",
       "       'Haiti', 'El-Salvador', 'Puerto-Rico', 'Vietnam', 'South', 'Columbia',\n",
       "       'Japan', 'India', 'Cambodia', 'Poland', 'Laos', 'England', 'Cuba',\n",
       "       'Taiwan', 'Italy', 'Canada', 'Portugal', 'China', 'Nicaragua',\n",
       "       'Honduras', 'Iran', 'Scotland', 'Jamaica', 'Ecuador', 'Yugoslavia',\n",
       "       'Hungary', 'Hong', 'Greece', 'Trinadad&Tobago',\n",
       "       'Outlying-US(Guam-USVI-etc)', 'France', 'Holand-Netherlands'],\n",
       "      dtype='object')"
      ]
     },
     "execution_count": 38,
     "metadata": {},
     "output_type": "execute_result"
    }
   ],
   "source": [
    "data.columns"
   ]
  },
  {
   "cell_type": "code",
   "execution_count": 39,
   "id": "01e4d456",
   "metadata": {},
   "outputs": [],
   "source": [
    "scale_cols = ['age', 'fnlwgt', 'educational-num', 'capital-gain', 'capital-loss',\n",
    "       'hours-per-week']"
   ]
  },
  {
   "cell_type": "code",
   "execution_count": 40,
   "id": "c7b3e38f",
   "metadata": {},
   "outputs": [],
   "source": [
    "data[scale_cols] = scaler.fit_transform(data[scale_cols])"
   ]
  },
  {
   "cell_type": "code",
   "execution_count": 41,
   "id": "08e8adb0",
   "metadata": {},
   "outputs": [
    {
     "data": {
      "text/html": [
       "<div>\n",
       "<style scoped>\n",
       "    .dataframe tbody tr th:only-of-type {\n",
       "        vertical-align: middle;\n",
       "    }\n",
       "\n",
       "    .dataframe tbody tr th {\n",
       "        vertical-align: top;\n",
       "    }\n",
       "\n",
       "    .dataframe thead th {\n",
       "        text-align: right;\n",
       "    }\n",
       "</style>\n",
       "<table border=\"1\" class=\"dataframe\">\n",
       "  <thead>\n",
       "    <tr style=\"text-align: right;\">\n",
       "      <th></th>\n",
       "      <th>age</th>\n",
       "      <th>fnlwgt</th>\n",
       "      <th>educational-num</th>\n",
       "      <th>capital-gain</th>\n",
       "      <th>capital-loss</th>\n",
       "      <th>hours-per-week</th>\n",
       "      <th>income</th>\n",
       "      <th>Federal-gov</th>\n",
       "      <th>Local-gov</th>\n",
       "      <th>Never-worked</th>\n",
       "      <th>...</th>\n",
       "      <th>Jamaica</th>\n",
       "      <th>Ecuador</th>\n",
       "      <th>Yugoslavia</th>\n",
       "      <th>Hungary</th>\n",
       "      <th>Hong</th>\n",
       "      <th>Greece</th>\n",
       "      <th>Trinadad&amp;Tobago</th>\n",
       "      <th>Outlying-US(Guam-USVI-etc)</th>\n",
       "      <th>France</th>\n",
       "      <th>Holand-Netherlands</th>\n",
       "    </tr>\n",
       "  </thead>\n",
       "  <tbody>\n",
       "    <tr>\n",
       "      <th>0</th>\n",
       "      <td>-1.024983</td>\n",
       "      <td>0.350889</td>\n",
       "      <td>-1.221559</td>\n",
       "      <td>-0.146733</td>\n",
       "      <td>-0.21878</td>\n",
       "      <td>-0.078120</td>\n",
       "      <td>1</td>\n",
       "      <td>0.0</td>\n",
       "      <td>0.0</td>\n",
       "      <td>0.0</td>\n",
       "      <td>...</td>\n",
       "      <td>0.0</td>\n",
       "      <td>0.0</td>\n",
       "      <td>0.0</td>\n",
       "      <td>0.0</td>\n",
       "      <td>0.0</td>\n",
       "      <td>0.0</td>\n",
       "      <td>0.0</td>\n",
       "      <td>1.0</td>\n",
       "      <td>0.0</td>\n",
       "      <td>0.0</td>\n",
       "    </tr>\n",
       "    <tr>\n",
       "      <th>1</th>\n",
       "      <td>-0.041455</td>\n",
       "      <td>-0.945878</td>\n",
       "      <td>-0.438122</td>\n",
       "      <td>-0.146733</td>\n",
       "      <td>-0.21878</td>\n",
       "      <td>0.754701</td>\n",
       "      <td>1</td>\n",
       "      <td>0.0</td>\n",
       "      <td>0.0</td>\n",
       "      <td>0.0</td>\n",
       "      <td>...</td>\n",
       "      <td>0.0</td>\n",
       "      <td>0.0</td>\n",
       "      <td>0.0</td>\n",
       "      <td>0.0</td>\n",
       "      <td>0.0</td>\n",
       "      <td>0.0</td>\n",
       "      <td>0.0</td>\n",
       "      <td>1.0</td>\n",
       "      <td>0.0</td>\n",
       "      <td>0.0</td>\n",
       "    </tr>\n",
       "    <tr>\n",
       "      <th>2</th>\n",
       "      <td>-0.798015</td>\n",
       "      <td>1.393592</td>\n",
       "      <td>0.737034</td>\n",
       "      <td>-0.146733</td>\n",
       "      <td>-0.21878</td>\n",
       "      <td>-0.078120</td>\n",
       "      <td>0</td>\n",
       "      <td>0.0</td>\n",
       "      <td>1.0</td>\n",
       "      <td>0.0</td>\n",
       "      <td>...</td>\n",
       "      <td>0.0</td>\n",
       "      <td>0.0</td>\n",
       "      <td>0.0</td>\n",
       "      <td>0.0</td>\n",
       "      <td>0.0</td>\n",
       "      <td>0.0</td>\n",
       "      <td>0.0</td>\n",
       "      <td>1.0</td>\n",
       "      <td>0.0</td>\n",
       "      <td>0.0</td>\n",
       "    </tr>\n",
       "    <tr>\n",
       "      <th>3</th>\n",
       "      <td>0.412481</td>\n",
       "      <td>-0.278420</td>\n",
       "      <td>-0.046403</td>\n",
       "      <td>0.877467</td>\n",
       "      <td>-0.21878</td>\n",
       "      <td>-0.078120</td>\n",
       "      <td>0</td>\n",
       "      <td>0.0</td>\n",
       "      <td>0.0</td>\n",
       "      <td>0.0</td>\n",
       "      <td>...</td>\n",
       "      <td>0.0</td>\n",
       "      <td>0.0</td>\n",
       "      <td>0.0</td>\n",
       "      <td>0.0</td>\n",
       "      <td>0.0</td>\n",
       "      <td>0.0</td>\n",
       "      <td>0.0</td>\n",
       "      <td>1.0</td>\n",
       "      <td>0.0</td>\n",
       "      <td>0.0</td>\n",
       "    </tr>\n",
       "    <tr>\n",
       "      <th>4</th>\n",
       "      <td>-0.344079</td>\n",
       "      <td>0.084802</td>\n",
       "      <td>-1.613277</td>\n",
       "      <td>-0.146733</td>\n",
       "      <td>-0.21878</td>\n",
       "      <td>-0.910942</td>\n",
       "      <td>1</td>\n",
       "      <td>0.0</td>\n",
       "      <td>0.0</td>\n",
       "      <td>0.0</td>\n",
       "      <td>...</td>\n",
       "      <td>0.0</td>\n",
       "      <td>0.0</td>\n",
       "      <td>0.0</td>\n",
       "      <td>0.0</td>\n",
       "      <td>0.0</td>\n",
       "      <td>0.0</td>\n",
       "      <td>0.0</td>\n",
       "      <td>1.0</td>\n",
       "      <td>0.0</td>\n",
       "      <td>0.0</td>\n",
       "    </tr>\n",
       "    <tr>\n",
       "      <th>...</th>\n",
       "      <td>...</td>\n",
       "      <td>...</td>\n",
       "      <td>...</td>\n",
       "      <td>...</td>\n",
       "      <td>...</td>\n",
       "      <td>...</td>\n",
       "      <td>...</td>\n",
       "      <td>...</td>\n",
       "      <td>...</td>\n",
       "      <td>...</td>\n",
       "      <td>...</td>\n",
       "      <td>...</td>\n",
       "      <td>...</td>\n",
       "      <td>...</td>\n",
       "      <td>...</td>\n",
       "      <td>...</td>\n",
       "      <td>...</td>\n",
       "      <td>...</td>\n",
       "      <td>...</td>\n",
       "      <td>...</td>\n",
       "      <td>...</td>\n",
       "    </tr>\n",
       "    <tr>\n",
       "      <th>45217</th>\n",
       "      <td>-0.873671</td>\n",
       "      <td>0.639611</td>\n",
       "      <td>0.737034</td>\n",
       "      <td>-0.146733</td>\n",
       "      <td>-0.21878</td>\n",
       "      <td>-0.244684</td>\n",
       "      <td>1</td>\n",
       "      <td>0.0</td>\n",
       "      <td>0.0</td>\n",
       "      <td>0.0</td>\n",
       "      <td>...</td>\n",
       "      <td>0.0</td>\n",
       "      <td>0.0</td>\n",
       "      <td>0.0</td>\n",
       "      <td>0.0</td>\n",
       "      <td>0.0</td>\n",
       "      <td>0.0</td>\n",
       "      <td>0.0</td>\n",
       "      <td>1.0</td>\n",
       "      <td>0.0</td>\n",
       "      <td>0.0</td>\n",
       "    </tr>\n",
       "    <tr>\n",
       "      <th>45218</th>\n",
       "      <td>0.109857</td>\n",
       "      <td>-0.334735</td>\n",
       "      <td>-0.438122</td>\n",
       "      <td>-0.146733</td>\n",
       "      <td>-0.21878</td>\n",
       "      <td>-0.078120</td>\n",
       "      <td>0</td>\n",
       "      <td>0.0</td>\n",
       "      <td>0.0</td>\n",
       "      <td>0.0</td>\n",
       "      <td>...</td>\n",
       "      <td>0.0</td>\n",
       "      <td>0.0</td>\n",
       "      <td>0.0</td>\n",
       "      <td>0.0</td>\n",
       "      <td>0.0</td>\n",
       "      <td>0.0</td>\n",
       "      <td>0.0</td>\n",
       "      <td>1.0</td>\n",
       "      <td>0.0</td>\n",
       "      <td>0.0</td>\n",
       "    </tr>\n",
       "    <tr>\n",
       "      <th>45219</th>\n",
       "      <td>1.471665</td>\n",
       "      <td>-0.358060</td>\n",
       "      <td>-0.438122</td>\n",
       "      <td>-0.146733</td>\n",
       "      <td>-0.21878</td>\n",
       "      <td>-0.078120</td>\n",
       "      <td>1</td>\n",
       "      <td>0.0</td>\n",
       "      <td>0.0</td>\n",
       "      <td>0.0</td>\n",
       "      <td>...</td>\n",
       "      <td>0.0</td>\n",
       "      <td>0.0</td>\n",
       "      <td>0.0</td>\n",
       "      <td>0.0</td>\n",
       "      <td>0.0</td>\n",
       "      <td>0.0</td>\n",
       "      <td>0.0</td>\n",
       "      <td>1.0</td>\n",
       "      <td>0.0</td>\n",
       "      <td>0.0</td>\n",
       "    </tr>\n",
       "    <tr>\n",
       "      <th>45220</th>\n",
       "      <td>-1.251951</td>\n",
       "      <td>0.111279</td>\n",
       "      <td>-0.438122</td>\n",
       "      <td>-0.146733</td>\n",
       "      <td>-0.21878</td>\n",
       "      <td>-1.743763</td>\n",
       "      <td>1</td>\n",
       "      <td>0.0</td>\n",
       "      <td>0.0</td>\n",
       "      <td>0.0</td>\n",
       "      <td>...</td>\n",
       "      <td>0.0</td>\n",
       "      <td>0.0</td>\n",
       "      <td>0.0</td>\n",
       "      <td>0.0</td>\n",
       "      <td>0.0</td>\n",
       "      <td>0.0</td>\n",
       "      <td>0.0</td>\n",
       "      <td>1.0</td>\n",
       "      <td>0.0</td>\n",
       "      <td>0.0</td>\n",
       "    </tr>\n",
       "    <tr>\n",
       "      <th>45221</th>\n",
       "      <td>1.017729</td>\n",
       "      <td>0.929516</td>\n",
       "      <td>-0.438122</td>\n",
       "      <td>1.854773</td>\n",
       "      <td>-0.21878</td>\n",
       "      <td>-0.078120</td>\n",
       "      <td>0</td>\n",
       "      <td>0.0</td>\n",
       "      <td>0.0</td>\n",
       "      <td>0.0</td>\n",
       "      <td>...</td>\n",
       "      <td>0.0</td>\n",
       "      <td>0.0</td>\n",
       "      <td>0.0</td>\n",
       "      <td>0.0</td>\n",
       "      <td>0.0</td>\n",
       "      <td>0.0</td>\n",
       "      <td>0.0</td>\n",
       "      <td>1.0</td>\n",
       "      <td>0.0</td>\n",
       "      <td>0.0</td>\n",
       "    </tr>\n",
       "  </tbody>\n",
       "</table>\n",
       "<p>45222 rows × 90 columns</p>\n",
       "</div>"
      ],
      "text/plain": [
       "            age    fnlwgt  educational-num  capital-gain  capital-loss  \\\n",
       "0     -1.024983  0.350889        -1.221559     -0.146733      -0.21878   \n",
       "1     -0.041455 -0.945878        -0.438122     -0.146733      -0.21878   \n",
       "2     -0.798015  1.393592         0.737034     -0.146733      -0.21878   \n",
       "3      0.412481 -0.278420        -0.046403      0.877467      -0.21878   \n",
       "4     -0.344079  0.084802        -1.613277     -0.146733      -0.21878   \n",
       "...         ...       ...              ...           ...           ...   \n",
       "45217 -0.873671  0.639611         0.737034     -0.146733      -0.21878   \n",
       "45218  0.109857 -0.334735        -0.438122     -0.146733      -0.21878   \n",
       "45219  1.471665 -0.358060        -0.438122     -0.146733      -0.21878   \n",
       "45220 -1.251951  0.111279        -0.438122     -0.146733      -0.21878   \n",
       "45221  1.017729  0.929516        -0.438122      1.854773      -0.21878   \n",
       "\n",
       "       hours-per-week income  Federal-gov  Local-gov  Never-worked  ...  \\\n",
       "0           -0.078120      1          0.0        0.0           0.0  ...   \n",
       "1            0.754701      1          0.0        0.0           0.0  ...   \n",
       "2           -0.078120      0          0.0        1.0           0.0  ...   \n",
       "3           -0.078120      0          0.0        0.0           0.0  ...   \n",
       "4           -0.910942      1          0.0        0.0           0.0  ...   \n",
       "...               ...    ...          ...        ...           ...  ...   \n",
       "45217       -0.244684      1          0.0        0.0           0.0  ...   \n",
       "45218       -0.078120      0          0.0        0.0           0.0  ...   \n",
       "45219       -0.078120      1          0.0        0.0           0.0  ...   \n",
       "45220       -1.743763      1          0.0        0.0           0.0  ...   \n",
       "45221       -0.078120      0          0.0        0.0           0.0  ...   \n",
       "\n",
       "       Jamaica  Ecuador  Yugoslavia  Hungary  Hong  Greece  Trinadad&Tobago  \\\n",
       "0          0.0      0.0         0.0      0.0   0.0     0.0              0.0   \n",
       "1          0.0      0.0         0.0      0.0   0.0     0.0              0.0   \n",
       "2          0.0      0.0         0.0      0.0   0.0     0.0              0.0   \n",
       "3          0.0      0.0         0.0      0.0   0.0     0.0              0.0   \n",
       "4          0.0      0.0         0.0      0.0   0.0     0.0              0.0   \n",
       "...        ...      ...         ...      ...   ...     ...              ...   \n",
       "45217      0.0      0.0         0.0      0.0   0.0     0.0              0.0   \n",
       "45218      0.0      0.0         0.0      0.0   0.0     0.0              0.0   \n",
       "45219      0.0      0.0         0.0      0.0   0.0     0.0              0.0   \n",
       "45220      0.0      0.0         0.0      0.0   0.0     0.0              0.0   \n",
       "45221      0.0      0.0         0.0      0.0   0.0     0.0              0.0   \n",
       "\n",
       "       Outlying-US(Guam-USVI-etc)  France  Holand-Netherlands  \n",
       "0                             1.0     0.0                 0.0  \n",
       "1                             1.0     0.0                 0.0  \n",
       "2                             1.0     0.0                 0.0  \n",
       "3                             1.0     0.0                 0.0  \n",
       "4                             1.0     0.0                 0.0  \n",
       "...                           ...     ...                 ...  \n",
       "45217                         1.0     0.0                 0.0  \n",
       "45218                         1.0     0.0                 0.0  \n",
       "45219                         1.0     0.0                 0.0  \n",
       "45220                         1.0     0.0                 0.0  \n",
       "45221                         1.0     0.0                 0.0  \n",
       "\n",
       "[45222 rows x 90 columns]"
      ]
     },
     "execution_count": 41,
     "metadata": {},
     "output_type": "execute_result"
    }
   ],
   "source": [
    "data"
   ]
  },
  {
   "cell_type": "code",
   "execution_count": 42,
   "id": "54c59118",
   "metadata": {},
   "outputs": [],
   "source": [
    "data.to_csv('processes_data.csv',index=False)"
   ]
  },
  {
   "cell_type": "code",
   "execution_count": 43,
   "id": "1afc2b78",
   "metadata": {},
   "outputs": [],
   "source": [
    "Y = data['income'].to_numpy()\n",
    "data.drop('income', inplace = True , axis = 1)\n",
    "X = data.to_numpy()"
   ]
  },
  {
   "cell_type": "code",
   "execution_count": 44,
   "id": "d5baa240",
   "metadata": {},
   "outputs": [],
   "source": [
    "from sklearn.model_selection import train_test_split\n",
    "X_train , X_test , y_train , y_test = train_test_split(X,Y, test_size = 0.2 , random_state = 40)"
   ]
  },
  {
   "cell_type": "markdown",
   "id": "b855da45",
   "metadata": {},
   "source": [
    "# KNN"
   ]
  },
  {
   "cell_type": "code",
   "execution_count": 45,
   "id": "70e2465a",
   "metadata": {},
   "outputs": [],
   "source": [
    "def dist(X1 , X2):\n",
    "    return ((np.sum((X1-X2)**2))**(0.5))"
   ]
  },
  {
   "cell_type": "code",
   "execution_count": 46,
   "id": "22f414e0",
   "metadata": {},
   "outputs": [],
   "source": [
    "# def knn_1(X_train, y_train , q_pt  , k = 5):\n",
    "#     vals = []\n",
    "#     m = X_train.shape[0]\n",
    "    \n",
    "#     for i in range(m):\n",
    "#         d = dist(X_train[i] , q_pt )\n",
    "#         vals.append((d,y_train[i]))\n",
    "    \n",
    "#     vals = sorted(vals)\n",
    "#     vals = vals[ :k]\n",
    "    \n",
    "#     vals = np.array(vals)\n",
    "    \n",
    "#     print(vals)\n",
    "    \n",
    "#     new_vals = np.unique(vals[:,], return_counts=True)\n",
    "#     print(new_vals)\n",
    "            \n",
    "        "
   ]
  },
  {
   "cell_type": "code",
   "execution_count": 47,
   "id": "cf352c6e",
   "metadata": {},
   "outputs": [],
   "source": [
    "#knn_1(X_train, y_train , q_pt = X_test[1] , k = 15)"
   ]
  },
  {
   "cell_type": "code",
   "execution_count": 48,
   "id": "e43a613c",
   "metadata": {},
   "outputs": [
    {
     "data": {
      "text/plain": [
       "1"
      ]
     },
     "execution_count": 48,
     "metadata": {},
     "output_type": "execute_result"
    }
   ],
   "source": [
    "y_test[11]"
   ]
  },
  {
   "cell_type": "code",
   "execution_count": 49,
   "id": "57d77f29",
   "metadata": {},
   "outputs": [],
   "source": [
    "def final_label(dist_label , k):\n",
    "    count_0 = 0\n",
    "    float_k = float(k)\n",
    "    for i in range(k):\n",
    "        if dist_label[i,1] == 0:\n",
    "            count_0 = count_0 + 1\n",
    "    \n",
    "    if count_0 > float_k/2 :\n",
    "        return 0\n",
    "    else:\n",
    "        return 1"
   ]
  },
  {
   "cell_type": "code",
   "execution_count": null,
   "id": "cb0d1082",
   "metadata": {},
   "outputs": [],
   "source": []
  },
  {
   "cell_type": "code",
   "execution_count": 50,
   "id": "42a30b08",
   "metadata": {},
   "outputs": [],
   "source": [
    "def knn_2(X_train, X_test , y_train , y_test  , k ):\n",
    "    collection = []\n",
    "    m_train = len(y_train)\n",
    "    m_test = len(y_test)\n",
    "    pred_labels = []\n",
    "    for i in tqdm(range(m_test)):\n",
    "        dist_label = []\n",
    "        \n",
    "        for j in range(m_train):\n",
    "            d = dist(X_train[j] ,X_test[i] )\n",
    "            dist_label.append( [d , y_train[j]] )\n",
    "        \n",
    "        dist_label = sorted(dist_label)\n",
    "        dist_label = dist_label[:k ]\n",
    "        dist_label = np.array(dist_label)\n",
    "        \n",
    "        #print(dist_label)\n",
    "        \n",
    "        pred_labels.append(final_label(dist_label , k))\n",
    "        \n",
    "        pred_label = final_label(dist_label , k)\n",
    "        \n",
    "#        # print(dist_label)\n",
    "#         print(\"----------\" )\n",
    "#         print(dist_label)\n",
    "#         print(\"----------\")\n",
    "#         print('*')\n",
    "    print(pred_labels)\n",
    "    \n",
    "    pred_labels = np.asarray(pred_labels)\n",
    "    pred_labels =np.reshape(pred_labels, (-1, 1))\n",
    "    print(pred_labels.shape)\n",
    "    return pred_labels        "
   ]
  },
  {
   "cell_type": "code",
   "execution_count": 51,
   "id": "ac6749f8",
   "metadata": {},
   "outputs": [],
   "source": [
    "##y_pred_knn = knn_2(X_train, X_test , y_train , y_test  , k )"
   ]
  },
  {
   "cell_type": "code",
   "execution_count": 52,
   "id": "7dc45f9d",
   "metadata": {},
   "outputs": [],
   "source": [
    "#y_pred_knn"
   ]
  },
  {
   "cell_type": "code",
   "execution_count": 53,
   "id": "f5c67adb",
   "metadata": {},
   "outputs": [],
   "source": [
    "y_test =np.reshape(y_test, (-1, 1))"
   ]
  },
  {
   "cell_type": "code",
   "execution_count": 54,
   "id": "f46d99ce",
   "metadata": {},
   "outputs": [
    {
     "data": {
      "text/plain": [
       "(9045, 1)"
      ]
     },
     "execution_count": 54,
     "metadata": {},
     "output_type": "execute_result"
    }
   ],
   "source": [
    "y_test.shape"
   ]
  },
  {
   "cell_type": "code",
   "execution_count": 55,
   "id": "91a81e7f",
   "metadata": {},
   "outputs": [],
   "source": [
    "#y_pred_knn"
   ]
  },
  {
   "cell_type": "code",
   "execution_count": 56,
   "id": "46529ab1",
   "metadata": {},
   "outputs": [],
   "source": [
    " #y_pred_knn =  y_pred_knn.astype('int64')"
   ]
  },
  {
   "cell_type": "code",
   "execution_count": 57,
   "id": "27c38c12",
   "metadata": {},
   "outputs": [],
   "source": [
    " y_test = y_test.astype('int64')"
   ]
  },
  {
   "cell_type": "code",
   "execution_count": 58,
   "id": "8bedd90a",
   "metadata": {},
   "outputs": [],
   "source": [
    "y_test = np.asarray(y_test)"
   ]
  },
  {
   "cell_type": "code",
   "execution_count": 59,
   "id": "7572d4b4",
   "metadata": {},
   "outputs": [],
   "source": [
    "y_test = np.asarray(y_test)"
   ]
  },
  {
   "cell_type": "code",
   "execution_count": 60,
   "id": "a9e0f873",
   "metadata": {},
   "outputs": [
    {
     "data": {
      "text/plain": [
       "numpy.ndarray"
      ]
     },
     "execution_count": 60,
     "metadata": {},
     "output_type": "execute_result"
    }
   ],
   "source": [
    "type(y_test)"
   ]
  },
  {
   "cell_type": "code",
   "execution_count": 61,
   "id": "9172f484",
   "metadata": {},
   "outputs": [],
   "source": [
    "y_train = np.asarray(y_train)\n",
    "y_train = y_train.astype('int64')"
   ]
  },
  {
   "cell_type": "code",
   "execution_count": 62,
   "id": "29353766",
   "metadata": {},
   "outputs": [],
   "source": [
    "X_train = np.asarray(X_train)\n",
    "X_train = X_train.astype('int64')"
   ]
  },
  {
   "cell_type": "code",
   "execution_count": 63,
   "id": "a75d4b6f",
   "metadata": {},
   "outputs": [],
   "source": [
    "# from sklearn.metrics import confusion_matrix\n",
    "# confusion_matrix( y_test , y_pred_knn)"
   ]
  },
  {
   "cell_type": "code",
   "execution_count": 64,
   "id": "caa62f10",
   "metadata": {},
   "outputs": [],
   "source": [
    "# from sklearn.metrics import classification_report\n",
    "\n",
    "# print(classification_report(y_test , y_pred_knn))"
   ]
  },
  {
   "cell_type": "code",
   "execution_count": 65,
   "id": "db82eded",
   "metadata": {},
   "outputs": [],
   "source": [
    "#Import knearest neighbors Classifier model\n",
    "from sklearn.neighbors import KNeighborsClassifier"
   ]
  },
  {
   "cell_type": "code",
   "execution_count": 66,
   "id": "2f4c147d",
   "metadata": {},
   "outputs": [],
   "source": [
    "#Create KNN Classifier\n",
    "# knn_3 = KNeighborsClassifier(n_neighbors=7)\n",
    "\n",
    "# #Train the model using the training sets\n",
    "# knn_3.fit(X_train, y_train)\n"
   ]
  },
  {
   "cell_type": "code",
   "execution_count": null,
   "id": "d3be5762",
   "metadata": {},
   "outputs": [],
   "source": []
  },
  {
   "cell_type": "code",
   "execution_count": 67,
   "id": "2fd11638",
   "metadata": {},
   "outputs": [],
   "source": [
    "#Predict the response for test dataset\n",
    "# y_pred_knn_3 = knn_3.predict(X_test)"
   ]
  },
  {
   "cell_type": "code",
   "execution_count": 68,
   "id": "fd422abd",
   "metadata": {},
   "outputs": [],
   "source": [
    "# from sklearn.metrics import confusion_matrix\n",
    "# confusion_matrix( y_test , y_pred_knn_3)"
   ]
  },
  {
   "cell_type": "code",
   "execution_count": 69,
   "id": "15ac1d41",
   "metadata": {},
   "outputs": [],
   "source": [
    "# from sklearn.metrics import classification_report\n",
    "\n",
    "# print(classification_report(y_test , y_pred_knn_3))"
   ]
  },
  {
   "cell_type": "code",
   "execution_count": 70,
   "id": "021dbe8d",
   "metadata": {},
   "outputs": [],
   "source": [
    "# def sigmoid_fun(X , theta):\n",
    "#     sig = 1/(1+np.exp((-1)*np.dot(X,theta)))\n",
    "#     return sig\n",
    "\n",
    "# def cost(theta,X,y,lamb):\n",
    "#     m = len(y)\n",
    "#     n = len(theta)\n",
    "#     y = y.reshape(m,1)\n",
    "#     theta = theta.reshape(n,1)\n",
    "    \n",
    "#     h = sigmoid_fun(X , theta)\n",
    "    \n",
    "#     j = -np.dot(y.T,np.log(h)) - (np.dot((1-y).T,(1-np.log(h))))\n",
    "    \n",
    "#     J =  j/(m)\n",
    "#     J = J + ( lamb*np.sum( (theta[1:,:]**2) ) )/(2*m)\n",
    "    \n",
    "#     return J\n",
    "# def grad (theta,X,y,lamb):\n",
    "#     n = len(theta)\n",
    "#     m = len(y)\n",
    "#     y = y.reshape(m,1)\n",
    "#     theta = theta.reshape(n,1)\n",
    "#     grad = np.dot(X.T, (sigmoid_fun(X,theta) - y))/m\n",
    "#     grad[1:,:] = grad[1:,:] + (lamb/m)*theta[1:,:]\n",
    "#     return grad"
   ]
  },
  {
   "cell_type": "code",
   "execution_count": 71,
   "id": "669d6bb6",
   "metadata": {},
   "outputs": [],
   "source": [
    "# import scipy.optimize as op\n",
    "# theta = np.zeros((X_train.shape[1],1) )\n",
    "\n",
    "# lamb = 0\n",
    "\n",
    "# result = op.fmin_tnc(cost, x0=theta, args=(X_train,y_train, lamb),fprime=grad)\n",
    "# finaltheta = result[0].reshape((-1,1))"
   ]
  },
  {
   "cell_type": "code",
   "execution_count": 72,
   "id": "25fcab30",
   "metadata": {},
   "outputs": [],
   "source": [
    "# y_pred_lr = sigmoid_fun(X_test , finaltheta)\n",
    "# #y_pred\n",
    "# len(y_pred_lr)"
   ]
  },
  {
   "cell_type": "code",
   "execution_count": 73,
   "id": "b836fc96",
   "metadata": {},
   "outputs": [],
   "source": [
    "# for i in range(len(y_pred_lr)):\n",
    "#     if (y_pred_lr[i] >= 0.5):\n",
    "#         y_pred_lr[i] = 1\n",
    "#     else:\n",
    "#         y_pred_lr[i] = 0"
   ]
  },
  {
   "cell_type": "code",
   "execution_count": 74,
   "id": "5b5ddb92",
   "metadata": {},
   "outputs": [],
   "source": [
    "# from sklearn.metrics import confusion_matrix\n",
    "# confusion_matrix( y_test , y_pred_lr)"
   ]
  },
  {
   "cell_type": "code",
   "execution_count": 75,
   "id": "ebf34db2",
   "metadata": {},
   "outputs": [],
   "source": [
    "# #y_test\n",
    "# from sklearn.metrics import classification_report\n",
    "\n",
    "# print(classification_report(y_test , y_pred_lr))"
   ]
  },
  {
   "cell_type": "code",
   "execution_count": null,
   "id": "10acb58c",
   "metadata": {},
   "outputs": [],
   "source": [
    "#knn_2(X_train, X_test , y_train , y_test  , 5)"
   ]
  },
  {
   "cell_type": "code",
   "execution_count": null,
   "id": "ca91549c",
   "metadata": {},
   "outputs": [],
   "source": []
  },
  {
   "cell_type": "code",
   "execution_count": null,
   "id": "7c38ff97",
   "metadata": {},
   "outputs": [],
   "source": []
  },
  {
   "cell_type": "code",
   "execution_count": null,
   "id": "0c2a6cba",
   "metadata": {},
   "outputs": [],
   "source": []
  }
 ],
 "metadata": {
  "kernelspec": {
   "display_name": "Python 3 (ipykernel)",
   "language": "python",
   "name": "python3"
  },
  "language_info": {
   "codemirror_mode": {
    "name": "ipython",
    "version": 3
   },
   "file_extension": ".py",
   "mimetype": "text/x-python",
   "name": "python",
   "nbconvert_exporter": "python",
   "pygments_lexer": "ipython3",
   "version": "3.9.7"
  }
 },
 "nbformat": 4,
 "nbformat_minor": 5
}
